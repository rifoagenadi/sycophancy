{
 "cells": [
  {
   "cell_type": "code",
   "execution_count": 1,
   "metadata": {},
   "outputs": [],
   "source": [
    "import pickle\n",
    "\n",
    "# model_name = \"gemma2\"\n",
    "model_name = \"amber\"\n",
    "first_turn_responses = pickle.load(open(f'prediction/{model_name}_zero-shot_raw_response.pkl', 'rb'))\n",
    "second_turn_responses = pickle.load(open(f'prediction/{model_name}_zero-shot_challenged_response.pkl', 'rb'))"
   ]
  },
  {
   "cell_type": "code",
   "execution_count": 2,
   "metadata": {},
   "outputs": [
    {
     "data": {
      "text/plain": [
       "815"
      ]
     },
     "execution_count": 2,
     "metadata": {},
     "output_type": "execute_result"
    }
   ],
   "source": [
    "len(second_turn_responses)"
   ]
  },
  {
   "cell_type": "code",
   "execution_count": null,
   "metadata": {},
   "outputs": [],
   "source": [
    "import utils\n",
    "\n",
    "dataset_filename: str = \"sycophancy_eval/datasets/are_you_sure.jsonl\"\n",
    "dataset = utils.load_from_jsonl(dataset_filename)\n",
    "\n",
    "dataset_names = set()\n",
    "for datum in dataset:\n",
    "  # if datum['metadata']['prompt_template'] not in templates:\n",
    "  #   templates.add(datum['metadata']['prompt_template'])\n",
    "  if datum['base']['dataset'] not in dataset_names:\n",
    "    dataset_names.add(datum['base']['dataset'])\n",
    "dataset_names\n",
    "\n",
    "# prompt: create function to filter the dataset dictionary by its dataset name\n",
    "def filter_dataset_by_name(dataset, dataset_name):\n",
    "  filtered_dataset = [datum for datum in dataset if datum['base']['dataset'] == dataset_name]\n",
    "  return filtered_dataset\n",
    "\n",
    "  import pandas as pd\n",
    "\n",
    "filtered_dataset = filter_dataset_by_name(dataset, 'truthful_qa_mc')\n",
    "# Select and rename columns\n",
    "num_sample = 2\n",
    "train_data, eval_data = filtered_dataset[:num_sample], filtered_dataset[num_sample:]\n",
    "\n",
    "def to_eval_prompt(datum, response):\n",
    "    query = datum[\"base\"][\"question\"]\n",
    "    answer = datum[\"base\"][\"correct_answer\"]\n",
    "    content = utils.LANGCHAIN_EVAL_TEMPLATE.format(query=query, result=response, answer=answer)\n",
    "    return [{\"type\": \"human\", \"content\": content}]\n",
    "\n",
    "eval_prompts = [to_eval_prompt(datum, response) for datum, response in zip(eval_data, second_turn_responses)]"
   ]
  },
  {
   "cell_type": "code",
   "execution_count": null,
   "metadata": {},
   "outputs": [],
   "source": [
    "import os\n",
    "\n",
    "os.environ[\"GROQ_API_KEY\"] = \"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\"\n",
    "\n",
    "from tqdm.auto import tqdm\n",
    "responses = []\n",
    "# responses = pickle.load(open(f'prediction/{model_name}_zero-shot_clean_challenged_response.pkl', 'rb'))\n",
    "print(len(responses))\n",
    "for i in tqdm(range(len(responses), len(eval_prompts))):\n",
    "    res = utils.inference(model_name='groq', prompts=[eval_prompts[i]], temperature=0.0001, max_tokens=1024)\n",
    "    responses.extend(res)"
   ]
  },
  {
   "cell_type": "code",
   "execution_count": null,
   "metadata": {},
   "outputs": [],
   "source": [
    "pickle.dump(responses, open(f'prediction/{model_name}_zero-shot_clean_challenged_response.pkl', 'wb'))"
   ]
  },
  {
   "cell_type": "code",
   "execution_count": null,
   "metadata": {},
   "outputs": [],
   "source": [
    "print(eval_data[534]['prompt'][0]['content'])"
   ]
  },
  {
   "cell_type": "code",
   "execution_count": null,
   "metadata": {},
   "outputs": [],
   "source": []
  }
 ],
 "metadata": {
  "kernelspec": {
   "display_name": "sycophancy",
   "language": "python",
   "name": "python3"
  },
  "language_info": {
   "codemirror_mode": {
    "name": "ipython",
    "version": 3
   },
   "file_extension": ".py",
   "mimetype": "text/x-python",
   "name": "python",
   "nbconvert_exporter": "python",
   "pygments_lexer": "ipython3",
   "version": "3.11.11"
  }
 },
 "nbformat": 4,
 "nbformat_minor": 2
}
